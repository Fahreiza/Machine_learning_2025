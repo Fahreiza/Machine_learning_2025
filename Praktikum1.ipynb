{
 "cells": [
  {
   "cell_type": "markdown",
   "id": "b417e23e",
   "metadata": {},
   "source": []
  }
 ],
 "metadata": {
  "language_info": {
   "name": "python"
  }
 },
 "nbformat": 4,
 "nbformat_minor": 5
}
